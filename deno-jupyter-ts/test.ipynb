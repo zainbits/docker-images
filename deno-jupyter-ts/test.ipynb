{
 "cells": [
  {
   "cell_type": "code",
   "execution_count": 2,
   "id": "8670583c-31bd-42b4-8634-ac40e830434c",
   "metadata": {},
   "outputs": [
    {
     "name": "stdout",
     "output_type": "stream",
     "text": [
      "fsdkljf\n"
     ]
    }
   ],
   "source": [
    "console.log(\"fsdkljf\")"
   ]
  },
  {
   "cell_type": "code",
   "execution_count": 3,
   "id": "798495e1-673d-4393-a7ea-16a5e2907187",
   "metadata": {},
   "outputs": [
    {
     "ename": "SyntaxError",
     "evalue": "Missing initializer in const declaration",
     "execution_count": 3,
     "output_type": "error",
     "traceback": [
      "evalmachine.<anonymous>:1",
      "const bring: number = 33",
      "      ^^^^^",
      "",
      "SyntaxError: Missing initializer in const declaration",
      "    at new Script (node:vm:94:7)",
      "    at createScript (node:vm:250:10)",
      "    at Object.runInThisContext (node:vm:298:10)",
      "    at run ([eval]:1020:15)",
      "    at onRunRequest ([eval]:864:18)",
      "    at onMessage ([eval]:828:13)",
      "    at process.emit (node:events:517:28)",
      "    at emit (node:internal/child_process:944:14)",
      "    at process.processTicksAndRejections (node:internal/process/task_queues:83:21)"
     ]
    }
   ],
   "source": [
    "const bring: number = 33"
   ]
  }
 ],
 "metadata": {
  "kernelspec": {
   "display_name": "JavaScript (Node.js)",
   "language": "javascript",
   "name": "javascript"
  },
  "language_info": {
   "file_extension": ".js",
   "mimetype": "application/javascript",
   "name": "javascript",
   "version": "18.19.0"
  }
 },
 "nbformat": 4,
 "nbformat_minor": 5
}
